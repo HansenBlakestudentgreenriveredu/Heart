{
 "cells": [
  {
   "cell_type": "markdown",
   "id": "2988f34c",
   "metadata": {},
   "source": [
    "Pull data from file."
   ]
  },
  {
   "cell_type": "code",
   "execution_count": 39,
   "id": "bcdbc134",
   "metadata": {},
   "outputs": [],
   "source": [
    "import pandas as pd\n",
    "\n",
    "heart_data_2022_nan = pd.read_csv(\"./Archive/2022/heart_2022_with_nans.csv\")"
   ]
  },
  {
   "cell_type": "markdown",
   "id": "852971eb",
   "metadata": {},
   "source": [
    "Pick data we cant to use."
   ]
  },
  {
   "cell_type": "code",
   "execution_count": 40,
   "id": "97a1b91c",
   "metadata": {},
   "outputs": [
    {
     "name": "stdout",
     "output_type": "stream",
     "text": [
      "  HadHeartAttack     Sex      AgeCategory    BMI   SmokerStatus  SleepHours  \\\n",
      "1             No  Female  Age 80 or older  26.57   Never smoked         6.0   \n",
      "2             No  Female     Age 55 to 59  25.61   Never smoked         5.0   \n",
      "4             No  Female     Age 40 to 44  21.77   Never smoked         9.0   \n",
      "5            Yes    Male  Age 80 or older  26.08   Never smoked         7.0   \n",
      "6             No  Female  Age 80 or older  22.96  Former smoker         7.0   \n",
      "\n",
      "  AlcoholDrinkers HadStroke  \n",
      "1              No        No  \n",
      "2              No        No  \n",
      "4             Yes        No  \n",
      "5              No       Yes  \n",
      "6             Yes        No  \n"
     ]
    }
   ],
   "source": [
    "df_model = heart_data_2022_nan[['HadHeartAttack', 'Sex', 'AgeCategory', 'BMI', 'SmokerStatus', 'SleepHours', 'AlcoholDrinkers', 'HadStroke']].dropna()\n",
    "\n",
    "print(df_model.head())"
   ]
  },
  {
   "cell_type": "markdown",
   "id": "40ec8a8d",
   "metadata": {},
   "source": [
    "Now One-hot Encode"
   ]
  },
  {
   "cell_type": "code",
   "execution_count": 45,
   "id": "41790b57",
   "metadata": {},
   "outputs": [
    {
     "name": "stdout",
     "output_type": "stream",
     "text": [
      "     BMI  SleepHours  HadHeartAttack_Yes  Sex_Male  AgeCategory_Age 25 to 29  \\\n",
      "1  26.57         6.0               False     False                     False   \n",
      "2  25.61         5.0               False     False                     False   \n",
      "4  21.77         9.0               False     False                     False   \n",
      "5  26.08         7.0                True      True                     False   \n",
      "6  22.96         7.0               False     False                     False   \n",
      "\n",
      "   AgeCategory_Age 30 to 34  AgeCategory_Age 35 to 39  \\\n",
      "1                     False                     False   \n",
      "2                     False                     False   \n",
      "4                     False                     False   \n",
      "5                     False                     False   \n",
      "6                     False                     False   \n",
      "\n",
      "   AgeCategory_Age 40 to 44  AgeCategory_Age 45 to 49  \\\n",
      "1                     False                     False   \n",
      "2                     False                     False   \n",
      "4                      True                     False   \n",
      "5                     False                     False   \n",
      "6                     False                     False   \n",
      "\n",
      "   AgeCategory_Age 50 to 54  ...  AgeCategory_Age 60 to 64  \\\n",
      "1                     False  ...                     False   \n",
      "2                     False  ...                     False   \n",
      "4                     False  ...                     False   \n",
      "5                     False  ...                     False   \n",
      "6                     False  ...                     False   \n",
      "\n",
      "   AgeCategory_Age 65 to 69  AgeCategory_Age 70 to 74  \\\n",
      "1                     False                     False   \n",
      "2                     False                     False   \n",
      "4                     False                     False   \n",
      "5                     False                     False   \n",
      "6                     False                     False   \n",
      "\n",
      "   AgeCategory_Age 75 to 79  AgeCategory_Age 80 or older  \\\n",
      "1                     False                         True   \n",
      "2                     False                        False   \n",
      "4                     False                        False   \n",
      "5                     False                         True   \n",
      "6                     False                         True   \n",
      "\n",
      "   SmokerStatus_Current smoker - now smokes some days  \\\n",
      "1                                              False    \n",
      "2                                              False    \n",
      "4                                              False    \n",
      "5                                              False    \n",
      "6                                              False    \n",
      "\n",
      "   SmokerStatus_Former smoker  SmokerStatus_Never smoked  AlcoholDrinkers_Yes  \\\n",
      "1                       False                       True                False   \n",
      "2                       False                       True                False   \n",
      "4                       False                       True                 True   \n",
      "5                       False                       True                False   \n",
      "6                        True                      False                 True   \n",
      "\n",
      "   HadStroke_Yes  \n",
      "1          False  \n",
      "2          False  \n",
      "4          False  \n",
      "5           True  \n",
      "6          False  \n",
      "\n",
      "[5 rows x 21 columns]\n"
     ]
    }
   ],
   "source": [
    "df_encoded = pd.get_dummies(df_model, drop_first=True)\n",
    "\n",
    "print(df_encoded.head())"
   ]
  },
  {
   "cell_type": "markdown",
   "id": "4e7ab5d8",
   "metadata": {},
   "source": [
    "Now Scaling"
   ]
  },
  {
   "cell_type": "code",
   "execution_count": 42,
   "id": "5013cb28",
   "metadata": {},
   "outputs": [
    {
     "name": "stdout",
     "output_type": "stream",
     "text": [
      "        BMI  SleepHours  HadHeartAttack_Yes  Sex_Male  \\\n",
      "0  0.166058    0.217391                 0.0       0.0   \n",
      "1  0.155102    0.173913                 0.0       0.0   \n",
      "2  0.111276    0.347826                 0.0       0.0   \n",
      "3  0.160466    0.260870                 1.0       1.0   \n",
      "4  0.124857    0.260870                 0.0       0.0   \n",
      "\n",
      "   AgeCategory_Age 25 to 29  AgeCategory_Age 30 to 34  \\\n",
      "0                       0.0                       0.0   \n",
      "1                       0.0                       0.0   \n",
      "2                       0.0                       0.0   \n",
      "3                       0.0                       0.0   \n",
      "4                       0.0                       0.0   \n",
      "\n",
      "   AgeCategory_Age 35 to 39  AgeCategory_Age 40 to 44  \\\n",
      "0                       0.0                       0.0   \n",
      "1                       0.0                       0.0   \n",
      "2                       0.0                       1.0   \n",
      "3                       0.0                       0.0   \n",
      "4                       0.0                       0.0   \n",
      "\n",
      "   AgeCategory_Age 45 to 49  AgeCategory_Age 50 to 54  ...  \\\n",
      "0                       0.0                       0.0  ...   \n",
      "1                       0.0                       0.0  ...   \n",
      "2                       0.0                       0.0  ...   \n",
      "3                       0.0                       0.0  ...   \n",
      "4                       0.0                       0.0  ...   \n",
      "\n",
      "   AgeCategory_Age 60 to 64  AgeCategory_Age 65 to 69  \\\n",
      "0                       0.0                       0.0   \n",
      "1                       0.0                       0.0   \n",
      "2                       0.0                       0.0   \n",
      "3                       0.0                       0.0   \n",
      "4                       0.0                       0.0   \n",
      "\n",
      "   AgeCategory_Age 70 to 74  AgeCategory_Age 75 to 79  \\\n",
      "0                       0.0                       0.0   \n",
      "1                       0.0                       0.0   \n",
      "2                       0.0                       0.0   \n",
      "3                       0.0                       0.0   \n",
      "4                       0.0                       0.0   \n",
      "\n",
      "   AgeCategory_Age 80 or older  \\\n",
      "0                          1.0   \n",
      "1                          0.0   \n",
      "2                          0.0   \n",
      "3                          1.0   \n",
      "4                          1.0   \n",
      "\n",
      "   SmokerStatus_Current smoker - now smokes some days  \\\n",
      "0                                                0.0    \n",
      "1                                                0.0    \n",
      "2                                                0.0    \n",
      "3                                                0.0    \n",
      "4                                                0.0    \n",
      "\n",
      "   SmokerStatus_Former smoker  SmokerStatus_Never smoked  AlcoholDrinkers_Yes  \\\n",
      "0                         0.0                        1.0                  0.0   \n",
      "1                         0.0                        1.0                  0.0   \n",
      "2                         0.0                        1.0                  1.0   \n",
      "3                         0.0                        1.0                  0.0   \n",
      "4                         1.0                        0.0                  1.0   \n",
      "\n",
      "   HadStroke_Yes  \n",
      "0            0.0  \n",
      "1            0.0  \n",
      "2            0.0  \n",
      "3            1.0  \n",
      "4            0.0  \n",
      "\n",
      "[5 rows x 21 columns]\n"
     ]
    }
   ],
   "source": [
    "from sklearn.preprocessing import MinMaxScaler\n",
    "scaler = MinMaxScaler()\n",
    "scaled_values = scaler.fit_transform(df_encoded)\n",
    "df_scaled = pd.DataFrame(scaled_values, columns=df_encoded.columns)\n",
    "print(df_scaled.head())"
   ]
  },
  {
   "cell_type": "markdown",
   "id": "8b3432cb",
   "metadata": {},
   "source": [
    "Throw data at Model"
   ]
  },
  {
   "cell_type": "markdown",
   "id": "12549a6d",
   "metadata": {},
   "source": [
    "Start with Linear Regression"
   ]
  },
  {
   "cell_type": "code",
   "execution_count": 60,
   "id": "02dc332f",
   "metadata": {},
   "outputs": [
    {
     "name": "stdout",
     "output_type": "stream",
     "text": [
      "Linear Regression Mean Squared Error: 0.0523181972018557\n"
     ]
    }
   ],
   "source": [
    "from sklearn.model_selection import train_test_split\n",
    "from sklearn.linear_model import LinearRegression, LogisticRegression\n",
    "from sklearn.metrics import mean_squared_error, accuracy_score, classification_report\n",
    "\n",
    "X = df_scaled[['BMI', 'SleepHours', 'Sex_Male', 'AgeCategory_Age 25 to 29', 'AgeCategory_Age 30 to 34', \\\n",
    "    'AgeCategory_Age 35 to 39',  'AgeCategory_Age 40 to 44', 'AgeCategory_Age 45 to 49', 'AgeCategory_Age 50 to 54', \\\n",
    "    'AlcoholDrinkers_Yes', 'HadStroke_Yes']]\n",
    "y = df_scaled['HadHeartAttack_Yes']\n",
    "\n",
    "X_train, X_test, y_train, y_test = train_test_split(X, y, test_size=0.2, random_state=0)\n",
    "\n",
    "X_train = scaler.fit_transform(X_train)\n",
    "X_test = scaler.transform(X_test)\n",
    "\n",
    "# Initialize and train the linear regression model\n",
    "linear_reg = LinearRegression()\n",
    "linear_reg.fit(X_train, y_train)\n",
    "\n",
    "# Make predictions\n",
    "y_pred = linear_reg.predict(X_test)\n",
    "\n",
    "# Evaluate the model\n",
    "mse = mean_squared_error(y_test, y_pred)\n",
    "print(f\"Linear Regression Mean Squared Error: {mse}\")"
   ]
  },
  {
   "cell_type": "markdown",
   "id": "baffc54d",
   "metadata": {},
   "source": [
    "Random Forest"
   ]
  },
  {
   "cell_type": "code",
   "execution_count": 61,
   "id": "b4d8c6ea",
   "metadata": {},
   "outputs": [
    {
     "name": "stdout",
     "output_type": "stream",
     "text": [
      "Random Forest Regression Mean Squared Error: 0.06071973415050133\n"
     ]
    }
   ],
   "source": [
    "from sklearn.ensemble import RandomForestRegressor, RandomForestClassifier, GradientBoostingClassifier\n",
    "forest_reg = RandomForestRegressor(random_state=0, n_estimators=100)\n",
    "forest_reg.fit(X_train, y_train)\n",
    "\n",
    "# Make predictions\n",
    "y_pred_forest = forest_reg.predict(X_test)\n",
    "\n",
    "# Evaluate the model\n",
    "mse_forest = mean_squared_error(y_test, y_pred_forest)\n",
    "print(f\"Random Forest Regression Mean Squared Error: {mse_forest}\")"
   ]
  },
  {
   "cell_type": "markdown",
   "id": "8fc91452",
   "metadata": {},
   "source": [
    "Visual comparison"
   ]
  },
  {
   "cell_type": "code",
   "execution_count": null,
   "id": "57aca97c",
   "metadata": {},
   "outputs": [
    {
     "ename": "AttributeError",
     "evalue": "'float' object has no attribute 'plot'",
     "output_type": "error",
     "traceback": [
      "\u001b[31m---------------------------------------------------------------------------\u001b[39m",
      "\u001b[31mAttributeError\u001b[39m                            Traceback (most recent call last)",
      "\u001b[36mCell\u001b[39m\u001b[36m \u001b[39m\u001b[32mIn[62]\u001b[39m\u001b[32m, line 4\u001b[39m\n\u001b[32m      1\u001b[39m \u001b[38;5;28;01mimport\u001b[39;00m\u001b[38;5;250m \u001b[39m\u001b[34;01mmatplotlib\u001b[39;00m\u001b[34;01m.\u001b[39;00m\u001b[34;01mpyplot\u001b[39;00m\u001b[38;5;250m \u001b[39m\u001b[38;5;28;01mas\u001b[39;00m\u001b[38;5;250m \u001b[39m\u001b[34;01mplt\u001b[39;00m\n\u001b[32m      3\u001b[39m plt.figure(figsize=(\u001b[32m8\u001b[39m, \u001b[32m5\u001b[39m))\n\u001b[32m----> \u001b[39m\u001b[32m4\u001b[39m \u001b[43mmse_forest\u001b[49m\u001b[43m.\u001b[49m\u001b[43mplot\u001b[49m(\n\u001b[32m      5\u001b[39m     kind=\u001b[33m'\u001b[39m\u001b[33mbar\u001b[39m\u001b[33m'\u001b[39m, stacked=\u001b[38;5;28;01mTrue\u001b[39;00m\n\u001b[32m      6\u001b[39m )\n\u001b[32m      7\u001b[39m mse.plot(\n\u001b[32m      8\u001b[39m     kind=\u001b[33m'\u001b[39m\u001b[33mbar\u001b[39m\u001b[33m'\u001b[39m, stacked=\u001b[38;5;28;01mTrue\u001b[39;00m\n\u001b[32m      9\u001b[39m )\n\u001b[32m     10\u001b[39m plt.title(\u001b[33m'\u001b[39m\u001b[33mRandom Forest vs Linear Regression\u001b[39m\u001b[33m'\u001b[39m)\n",
      "\u001b[31mAttributeError\u001b[39m: 'float' object has no attribute 'plot'"
     ]
    },
    {
     "data": {
      "text/plain": [
       "<Figure size 800x500 with 0 Axes>"
      ]
     },
     "metadata": {},
     "output_type": "display_data"
    }
   ],
   "source": [
    "import matplotlib.pyplot as plt\n",
    "\n"
   ]
  }
 ],
 "metadata": {
  "kernelspec": {
   "display_name": ".venv",
   "language": "python",
   "name": "python3"
  },
  "language_info": {
   "codemirror_mode": {
    "name": "ipython",
    "version": 3
   },
   "file_extension": ".py",
   "mimetype": "text/x-python",
   "name": "python",
   "nbconvert_exporter": "python",
   "pygments_lexer": "ipython3",
   "version": "3.13.1"
  }
 },
 "nbformat": 4,
 "nbformat_minor": 5
}
