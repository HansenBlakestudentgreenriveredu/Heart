{
 "cells": [
  {
   "cell_type": "markdown",
   "id": "2988f34c",
   "metadata": {},
   "source": [
    "Pull data from file."
   ]
  },
  {
   "cell_type": "code",
   "execution_count": 9,
   "id": "bcdbc134",
   "metadata": {},
   "outputs": [],
   "source": [
    "import pandas as pd\n",
    "\n",
    "heart_data_2022_nan = pd.read_csv(\"./Archive/2022/heart_2022_with_nans.csv\")"
   ]
  },
  {
   "cell_type": "markdown",
   "id": "852971eb",
   "metadata": {},
   "source": [
    "Pick data we cant to use."
   ]
  },
  {
   "cell_type": "code",
   "execution_count": 10,
   "id": "97a1b91c",
   "metadata": {},
   "outputs": [
    {
     "name": "stdout",
     "output_type": "stream",
     "text": [
      "  HadHeartAttack     Sex      AgeCategory    BMI   SmokerStatus  SleepHours  \\\n",
      "1             No  Female  Age 80 or older  26.57   Never smoked         6.0   \n",
      "2             No  Female     Age 55 to 59  25.61   Never smoked         5.0   \n",
      "4             No  Female     Age 40 to 44  21.77   Never smoked         9.0   \n",
      "5            Yes    Male  Age 80 or older  26.08   Never smoked         7.0   \n",
      "6             No  Female  Age 80 or older  22.96  Former smoker         7.0   \n",
      "\n",
      "  AlcoholDrinkers HadStroke  \n",
      "1              No        No  \n",
      "2              No        No  \n",
      "4             Yes        No  \n",
      "5              No       Yes  \n",
      "6             Yes        No  \n"
     ]
    }
   ],
   "source": [
    "df_model = heart_data_2022_nan[['HadHeartAttack', 'Sex', 'AgeCategory', 'BMI', 'SmokerStatus', 'SleepHours', 'AlcoholDrinkers', 'HadStroke']].dropna()\n",
    "\n",
    "print(df_model.head())"
   ]
  },
  {
   "cell_type": "markdown",
   "id": "40ec8a8d",
   "metadata": {},
   "source": [
    "Now One-hot Encode"
   ]
  },
  {
   "cell_type": "code",
   "execution_count": 11,
   "id": "41790b57",
   "metadata": {},
   "outputs": [
    {
     "name": "stdout",
     "output_type": "stream",
     "text": [
      "     BMI  SleepHours  HadHeartAttack_Yes  Sex_Male  AgeCategory_Age 25 to 29  \\\n",
      "1  26.57         6.0               False     False                     False   \n",
      "2  25.61         5.0               False     False                     False   \n",
      "4  21.77         9.0               False     False                     False   \n",
      "5  26.08         7.0                True      True                     False   \n",
      "6  22.96         7.0               False     False                     False   \n",
      "\n",
      "   AgeCategory_Age 30 to 34  AgeCategory_Age 35 to 39  \\\n",
      "1                     False                     False   \n",
      "2                     False                     False   \n",
      "4                     False                     False   \n",
      "5                     False                     False   \n",
      "6                     False                     False   \n",
      "\n",
      "   AgeCategory_Age 40 to 44  AgeCategory_Age 45 to 49  \\\n",
      "1                     False                     False   \n",
      "2                     False                     False   \n",
      "4                      True                     False   \n",
      "5                     False                     False   \n",
      "6                     False                     False   \n",
      "\n",
      "   AgeCategory_Age 50 to 54  ...  AgeCategory_Age 60 to 64  \\\n",
      "1                     False  ...                     False   \n",
      "2                     False  ...                     False   \n",
      "4                     False  ...                     False   \n",
      "5                     False  ...                     False   \n",
      "6                     False  ...                     False   \n",
      "\n",
      "   AgeCategory_Age 65 to 69  AgeCategory_Age 70 to 74  \\\n",
      "1                     False                     False   \n",
      "2                     False                     False   \n",
      "4                     False                     False   \n",
      "5                     False                     False   \n",
      "6                     False                     False   \n",
      "\n",
      "   AgeCategory_Age 75 to 79  AgeCategory_Age 80 or older  \\\n",
      "1                     False                         True   \n",
      "2                     False                        False   \n",
      "4                     False                        False   \n",
      "5                     False                         True   \n",
      "6                     False                         True   \n",
      "\n",
      "   SmokerStatus_Current smoker - now smokes some days  \\\n",
      "1                                              False    \n",
      "2                                              False    \n",
      "4                                              False    \n",
      "5                                              False    \n",
      "6                                              False    \n",
      "\n",
      "   SmokerStatus_Former smoker  SmokerStatus_Never smoked  AlcoholDrinkers_Yes  \\\n",
      "1                       False                       True                False   \n",
      "2                       False                       True                False   \n",
      "4                       False                       True                 True   \n",
      "5                       False                       True                False   \n",
      "6                        True                      False                 True   \n",
      "\n",
      "   HadStroke_Yes  \n",
      "1          False  \n",
      "2          False  \n",
      "4          False  \n",
      "5           True  \n",
      "6          False  \n",
      "\n",
      "[5 rows x 21 columns]\n"
     ]
    }
   ],
   "source": [
    "df_encoded = pd.get_dummies(df_model, drop_first=True)\n",
    "\n",
    "print(df_encoded.head())"
   ]
  },
  {
   "cell_type": "markdown",
   "id": "4e7ab5d8",
   "metadata": {},
   "source": [
    "Now Scaling"
   ]
  },
  {
   "cell_type": "code",
   "execution_count": 12,
   "id": "5013cb28",
   "metadata": {},
   "outputs": [
    {
     "name": "stdout",
     "output_type": "stream",
     "text": [
      "        BMI  SleepHours  HadHeartAttack_Yes  Sex_Male  \\\n",
      "0  0.166058    0.217391                 0.0       0.0   \n",
      "1  0.155102    0.173913                 0.0       0.0   \n",
      "2  0.111276    0.347826                 0.0       0.0   \n",
      "3  0.160466    0.260870                 1.0       1.0   \n",
      "4  0.124857    0.260870                 0.0       0.0   \n",
      "\n",
      "   AgeCategory_Age 25 to 29  AgeCategory_Age 30 to 34  \\\n",
      "0                       0.0                       0.0   \n",
      "1                       0.0                       0.0   \n",
      "2                       0.0                       0.0   \n",
      "3                       0.0                       0.0   \n",
      "4                       0.0                       0.0   \n",
      "\n",
      "   AgeCategory_Age 35 to 39  AgeCategory_Age 40 to 44  \\\n",
      "0                       0.0                       0.0   \n",
      "1                       0.0                       0.0   \n",
      "2                       0.0                       1.0   \n",
      "3                       0.0                       0.0   \n",
      "4                       0.0                       0.0   \n",
      "\n",
      "   AgeCategory_Age 45 to 49  AgeCategory_Age 50 to 54  ...  \\\n",
      "0                       0.0                       0.0  ...   \n",
      "1                       0.0                       0.0  ...   \n",
      "2                       0.0                       0.0  ...   \n",
      "3                       0.0                       0.0  ...   \n",
      "4                       0.0                       0.0  ...   \n",
      "\n",
      "   AgeCategory_Age 60 to 64  AgeCategory_Age 65 to 69  \\\n",
      "0                       0.0                       0.0   \n",
      "1                       0.0                       0.0   \n",
      "2                       0.0                       0.0   \n",
      "3                       0.0                       0.0   \n",
      "4                       0.0                       0.0   \n",
      "\n",
      "   AgeCategory_Age 70 to 74  AgeCategory_Age 75 to 79  \\\n",
      "0                       0.0                       0.0   \n",
      "1                       0.0                       0.0   \n",
      "2                       0.0                       0.0   \n",
      "3                       0.0                       0.0   \n",
      "4                       0.0                       0.0   \n",
      "\n",
      "   AgeCategory_Age 80 or older  \\\n",
      "0                          1.0   \n",
      "1                          0.0   \n",
      "2                          0.0   \n",
      "3                          1.0   \n",
      "4                          1.0   \n",
      "\n",
      "   SmokerStatus_Current smoker - now smokes some days  \\\n",
      "0                                                0.0    \n",
      "1                                                0.0    \n",
      "2                                                0.0    \n",
      "3                                                0.0    \n",
      "4                                                0.0    \n",
      "\n",
      "   SmokerStatus_Former smoker  SmokerStatus_Never smoked  AlcoholDrinkers_Yes  \\\n",
      "0                         0.0                        1.0                  0.0   \n",
      "1                         0.0                        1.0                  0.0   \n",
      "2                         0.0                        1.0                  1.0   \n",
      "3                         0.0                        1.0                  0.0   \n",
      "4                         1.0                        0.0                  1.0   \n",
      "\n",
      "   HadStroke_Yes  \n",
      "0            0.0  \n",
      "1            0.0  \n",
      "2            0.0  \n",
      "3            1.0  \n",
      "4            0.0  \n",
      "\n",
      "[5 rows x 21 columns]\n"
     ]
    }
   ],
   "source": [
    "from sklearn.preprocessing import MinMaxScaler\n",
    "scaler = MinMaxScaler()\n",
    "scaled_values = scaler.fit_transform(df_encoded)\n",
    "df_scaled = pd.DataFrame(scaled_values, columns=df_encoded.columns)\n",
    "print(df_scaled.head())"
   ]
  },
  {
   "cell_type": "markdown",
   "id": "8b3432cb",
   "metadata": {},
   "source": [
    "Throw data at Model"
   ]
  },
  {
   "cell_type": "markdown",
   "id": "12549a6d",
   "metadata": {},
   "source": [
    "Start with Linear Regression"
   ]
  },
  {
   "cell_type": "code",
   "execution_count": null,
   "id": "02dc332f",
   "metadata": {},
   "outputs": [
    {
     "name": "stdout",
     "output_type": "stream",
     "text": [
      "Linear Regression Mean Squared Error: 0.0523181972018557\n"
     ]
    }
   ],
   "source": [
    "from sklearn.model_selection import train_test_split\n",
    "from sklearn.linear_model import LinearRegression, LogisticRegression\n",
    "from sklearn.metrics import mean_squared_error, accuracy_score, classification_report\n",
    "\n",
    "X = df_scaled[['BMI', 'SleepHours', 'Sex_Male', 'AgeCategory_Age 25 to 29', 'AgeCategory_Age 30 to 34', \\\n",
    "    'AgeCategory_Age 35 to 39',  'AgeCategory_Age 40 to 44', 'AgeCategory_Age 45 to 49', 'AgeCategory_Age 50 to 54', \\\n",
    "    'AlcoholDrinkers_Yes', 'HadStroke_Yes']]\n",
    "y = df_scaled['HadHeartAttack_Yes']\n",
    "\n",
    "X_train, X_test, y_train, y_test = train_test_split(X, y, test_size=0.2, random_state=0)\n",
    "\n",
    "X_train = scaler.fit_transform(X_train)\n",
    "X_test = scaler.transform(X_test)\n",
    "\n",
    "# Initialize and train the linear regression model\n",
    "linear_reg = LinearRegression()\n",
    "linear_reg.fit(X_train, y_train)\n",
    "\n",
    "# Make predictions\n",
    "y_pred_regression = linear_reg.predict(X_test)\n",
    "\n",
    "# Evaluate the model\n",
    "mse_linear_regression = mean_squared_error(y_test, y_pred_regression)\n",
    "print(f\"Linear Regression Mean Squared Error: {mse_linear_regression}\")"
   ]
  },
  {
   "cell_type": "markdown",
   "id": "baffc54d",
   "metadata": {},
   "source": [
    "Random Forest"
   ]
  },
  {
   "cell_type": "code",
   "execution_count": 20,
   "id": "b4d8c6ea",
   "metadata": {},
   "outputs": [
    {
     "name": "stdout",
     "output_type": "stream",
     "text": [
      "Random Forest Regression Mean Squared Error: 0.06071973415050133\n"
     ]
    }
   ],
   "source": [
    "from sklearn.ensemble import RandomForestRegressor, RandomForestClassifier, GradientBoostingClassifier\n",
    "forest_reg = RandomForestRegressor(random_state=0, n_estimators=100)\n",
    "forest_reg.fit(X_train, y_train)\n",
    "\n",
    "# Make predictions\n",
    "y_pred_forest = forest_reg.predict(X_test)\n",
    "\n",
    "# Evaluate the model\n",
    "mse_forest = mean_squared_error(y_test, y_pred_forest)\n",
    "print(f\"Random Forest Regression Mean Squared Error: {mse_forest}\")"
   ]
  },
  {
   "cell_type": "code",
   "execution_count": 35,
   "id": "6612b813",
   "metadata": {},
   "outputs": [
    {
     "name": "stdout",
     "output_type": "stream",
     "text": [
      "161038    0.0\n",
      "49746     1.0\n",
      "143492    1.0\n",
      "84385     0.0\n",
      "212834    0.0\n",
      "         ... \n",
      "359783    0.0\n",
      "358083    0.0\n",
      "152315    0.0\n",
      "117952    0.0\n",
      "305711    0.0\n",
      "Name: HadHeartAttack_Yes, Length: 287861, dtype: float64\n"
     ]
    }
   ],
   "source": [
    "print(y_train)"
   ]
  },
  {
   "cell_type": "markdown",
   "id": "8fc91452",
   "metadata": {},
   "source": [
    "Visual comparison"
   ]
  },
  {
   "cell_type": "code",
   "execution_count": 41,
   "id": "d278dc7f",
   "metadata": {},
   "outputs": [
    {
     "name": "stdout",
     "output_type": "stream",
     "text": [
      "Logistic Regression Accuracy: 0.9415350945755823\n",
      "              precision    recall  f1-score   support\n",
      "\n",
      "           0       0.94      1.00      0.97     54211\n",
      "           1       0.25      0.00      0.00      3362\n",
      "\n",
      "    accuracy                           0.94     57573\n",
      "   macro avg       0.60      0.50      0.49     57573\n",
      "weighted avg       0.90      0.94      0.91     57573\n",
      "\n"
     ]
    },
    {
     "data": {
      "image/png": "[encoded data removed]",
      "text/plain": [
       "<Figure size 600x400 with 2 Axes>"
      ]
     },
     "metadata": {},
     "output_type": "display_data"
    }
   ],
   "source": [
    "from sklearn.metrics import confusion_matrix, accuracy_score\n",
    "import matplotlib.pyplot as plt\n",
    "import seaborn as sns\n",
    "\n",
    "y_class_binary = y_train.astype(int)\n",
    "\n",
    "# Split the data\n",
    "X_train_bin, X_test_bin, y_train_bin, y_test_bin = train_test_split(X_train, y_class_binary, test_size=0.2, random_state=0)\n",
    "\n",
    "# Initialize and train logistic regression\n",
    "log_reg = LogisticRegression()\n",
    "log_reg.fit(X_train_bin, y_train_bin)\n",
    "\n",
    "# Make predictions\n",
    "y_pred_log = log_reg.predict(X_test_bin)\n",
    "\n",
    "# Evaluate the model\n",
    "accuracy = accuracy_score(y_test_bin, y_pred_log)\n",
    "print(f\"Logistic Regression Accuracy: {accuracy}\")\n",
    "\n",
    "# Classification report\n",
    "print(classification_report(y_test_bin, y_pred_log))\n",
    "\n",
    "# Evaluate the model with confusion matrix\n",
    "conf_matrix_log = confusion_matrix(y_test_bin, y_pred_log)\n",
    "\n",
    "# Plot confusion matrix\n",
    "plt.figure(figsize=(6, 4))\n",
    "sns.heatmap(conf_matrix_log, annot=True, fmt=\"d\", cmap=\"Blues\", xticklabels=[\"No Heart Attack\", \"Heart Attack\"], yticklabels=[\"No Heart Attack\", \"Heart Attack\"])\n",
    "plt.xlabel(\"Predicted Labels\")\n",
    "plt.ylabel(\"True Labels\")\n",
    "plt.title(\"Logistic Regression Confusion Matrix (Heart Attack vs. No Heart Attack)\")\n",
    "plt.show()\n"
   ]
  },
  {
   "cell_type": "code",
   "execution_count": 17,
   "id": "57aca97c",
   "metadata": {},
   "outputs": [
    {
     "data": {
      "image/png": "[encoded data removed]",
      "text/plain": [
       "<Figure size 640x480 with 1 Axes>"
      ]
     },
     "metadata": {},
     "output_type": "display_data"
    }
   ],
   "source": [
    "import matplotlib.pyplot as plt\n",
    "import numpy as np\n",
    "\n",
    "# Labels and values\n",
    "labels = ['Linear Regression', 'Random Forest']\n",
    "values = [mse_linear_regression, mse_forest]\n",
    "\n",
    "# Plot\n",
    "plt.bar(labels, values)\n",
    "plt.title('Mean Squared Error')\n",
    "plt.tight_layout()\n",
    "plt.show()\n"
   ]
  }
 ],
 "metadata": {
  "kernelspec": {
   "display_name": ".venv",
   "language": "python",
   "name": "python3"
  },
  "language_info": {
   "codemirror_mode": {
    "name": "ipython",
    "version": 3
   },
   "file_extension": ".py",
   "mimetype": "text/x-python",
   "name": "python",
   "nbconvert_exporter": "python",
   "pygments_lexer": "ipython3",
   "version": "3.13.1"
  }
 },
 "nbformat": 4,
 "nbformat_minor": 5
}
