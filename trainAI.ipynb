{
 "cells": [
  {
   "cell_type": "markdown",
   "id": "2988f34c",
   "metadata": {},
   "source": [
    "Pull data from file."
   ]
  },
  {
   "cell_type": "code",
   "execution_count": 39,
   "id": "bcdbc134",
   "metadata": {},
   "outputs": [],
   "source": [
    "import pandas as pd\n",
    "\n",
    "heart_data_2022_nan = pd.read_csv(\"./Archive/2022/heart_2022_with_nans.csv\")"
   ]
  },
  {
   "cell_type": "markdown",
   "id": "852971eb",
   "metadata": {},
   "source": [
    "Pick data we cant to use."
   ]
  },
  {
   "cell_type": "code",
   "execution_count": 40,
   "id": "97a1b91c",
   "metadata": {},
   "outputs": [
    {
     "name": "stdout",
     "output_type": "stream",
     "text": [
      "  HadHeartAttack     Sex      AgeCategory    BMI   SmokerStatus  SleepHours  \\\n",
      "1             No  Female  Age 80 or older  26.57   Never smoked         6.0   \n",
      "2             No  Female     Age 55 to 59  25.61   Never smoked         5.0   \n",
      "4             No  Female     Age 40 to 44  21.77   Never smoked         9.0   \n",
      "5            Yes    Male  Age 80 or older  26.08   Never smoked         7.0   \n",
      "6             No  Female  Age 80 or older  22.96  Former smoker         7.0   \n",
      "\n",
      "  AlcoholDrinkers HadStroke  \n",
      "1              No        No  \n",
      "2              No        No  \n",
      "4             Yes        No  \n",
      "5              No       Yes  \n",
      "6             Yes        No  \n"
     ]
    }
   ],
   "source": [
    "df_model = heart_data_2022_nan[['HadHeartAttack', 'Sex', 'AgeCategory', 'BMI', 'SmokerStatus', 'SleepHours', 'AlcoholDrinkers', 'HadStroke']].dropna()\n",
    "\n",
    "print(df_model.head())"
   ]
  },
  {
   "cell_type": "markdown",
   "id": "40ec8a8d",
   "metadata": {},
   "source": [
    "Now One-hot Encode"
   ]
  },
  {
   "cell_type": "code",
   "execution_count": 45,
   "id": "41790b57",
   "metadata": {},
   "outputs": [
    {
     "name": "stdout",
     "output_type": "stream",
     "text": [
      "     BMI  SleepHours  HadHeartAttack_Yes  Sex_Male  AgeCategory_Age 25 to 29  \\\n",
      "1  26.57         6.0               False     False                     False   \n",
      "2  25.61         5.0               False     False                     False   \n",
      "4  21.77         9.0               False     False                     False   \n",
      "5  26.08         7.0                True      True                     False   \n",
      "6  22.96         7.0               False     False                     False   \n",
      "\n",
      "   AgeCategory_Age 30 to 34  AgeCategory_Age 35 to 39  \\\n",
      "1                     False                     False   \n",
      "2                     False                     False   \n",
      "4                     False                     False   \n",
      "5                     False                     False   \n",
      "6                     False                     False   \n",
      "\n",
      "   AgeCategory_Age 40 to 44  AgeCategory_Age 45 to 49  \\\n",
      "1                     False                     False   \n",
      "2                     False                     False   \n",
      "4                      True                     False   \n",
      "5                     False                     False   \n",
      "6                     False                     False   \n",
      "\n",
      "   AgeCategory_Age 50 to 54  ...  AgeCategory_Age 60 to 64  \\\n",
      "1                     False  ...                     False   \n",
      "2                     False  ...                     False   \n",
      "4                     False  ...                     False   \n",
      "5                     False  ...                     False   \n",
      "6                     False  ...                     False   \n",
      "\n",
      "   AgeCategory_Age 65 to 69  AgeCategory_Age 70 to 74  \\\n",
      "1                     False                     False   \n",
      "2                     False                     False   \n",
      "4                     False                     False   \n",
      "5                     False                     False   \n",
      "6                     False                     False   \n",
      "\n",
      "   AgeCategory_Age 75 to 79  AgeCategory_Age 80 or older  \\\n",
      "1                     False                         True   \n",
      "2                     False                        False   \n",
      "4                     False                        False   \n",
      "5                     False                         True   \n",
      "6                     False                         True   \n",
      "\n",
      "   SmokerStatus_Current smoker - now smokes some days  \\\n",
      "1                                              False    \n",
      "2                                              False    \n",
      "4                                              False    \n",
      "5                                              False    \n",
      "6                                              False    \n",
      "\n",
      "   SmokerStatus_Former smoker  SmokerStatus_Never smoked  AlcoholDrinkers_Yes  \\\n",
      "1                       False                       True                False   \n",
      "2                       False                       True                False   \n",
      "4                       False                       True                 True   \n",
      "5                       False                       True                False   \n",
      "6                        True                      False                 True   \n",
      "\n",
      "   HadStroke_Yes  \n",
      "1          False  \n",
      "2          False  \n",
      "4          False  \n",
      "5           True  \n",
      "6          False  \n",
      "\n",
      "[5 rows x 21 columns]\n"
     ]
    }
   ],
   "source": [
    "df_encoded = pd.get_dummies(df_model, drop_first=True)\n",
    "\n",
    "print(df_encoded.head())"
   ]
  },
  {
   "cell_type": "markdown",
   "id": "4e7ab5d8",
   "metadata": {},
   "source": [
    "Now Scaling"
   ]
  },
  {
   "cell_type": "code",
   "execution_count": 42,
   "id": "5013cb28",
   "metadata": {},
   "outputs": [
    {
     "name": "stdout",
     "output_type": "stream",
     "text": [
      "        BMI  SleepHours  HadHeartAttack_Yes  Sex_Male  \\\n",
      "0  0.166058    0.217391                 0.0       0.0   \n",
      "1  0.155102    0.173913                 0.0       0.0   \n",
      "2  0.111276    0.347826                 0.0       0.0   \n",
      "3  0.160466    0.260870                 1.0       1.0   \n",
      "4  0.124857    0.260870                 0.0       0.0   \n",
      "\n",
      "   AgeCategory_Age 25 to 29  AgeCategory_Age 30 to 34  \\\n",
      "0                       0.0                       0.0   \n",
      "1                       0.0                       0.0   \n",
      "2                       0.0                       0.0   \n",
      "3                       0.0                       0.0   \n",
      "4                       0.0                       0.0   \n",
      "\n",
      "   AgeCategory_Age 35 to 39  AgeCategory_Age 40 to 44  \\\n",
      "0                       0.0                       0.0   \n",
      "1                       0.0                       0.0   \n",
      "2                       0.0                       1.0   \n",
      "3                       0.0                       0.0   \n",
      "4                       0.0                       0.0   \n",
      "\n",
      "   AgeCategory_Age 45 to 49  AgeCategory_Age 50 to 54  ...  \\\n",
      "0                       0.0                       0.0  ...   \n",
      "1                       0.0                       0.0  ...   \n",
      "2                       0.0                       0.0  ...   \n",
      "3                       0.0                       0.0  ...   \n",
      "4                       0.0                       0.0  ...   \n",
      "\n",
      "   AgeCategory_Age 60 to 64  AgeCategory_Age 65 to 69  \\\n",
      "0                       0.0                       0.0   \n",
      "1                       0.0                       0.0   \n",
      "2                       0.0                       0.0   \n",
      "3                       0.0                       0.0   \n",
      "4                       0.0                       0.0   \n",
      "\n",
      "   AgeCategory_Age 70 to 74  AgeCategory_Age 75 to 79  \\\n",
      "0                       0.0                       0.0   \n",
      "1                       0.0                       0.0   \n",
      "2                       0.0                       0.0   \n",
      "3                       0.0                       0.0   \n",
      "4                       0.0                       0.0   \n",
      "\n",
      "   AgeCategory_Age 80 or older  \\\n",
      "0                          1.0   \n",
      "1                          0.0   \n",
      "2                          0.0   \n",
      "3                          1.0   \n",
      "4                          1.0   \n",
      "\n",
      "   SmokerStatus_Current smoker - now smokes some days  \\\n",
      "0                                                0.0    \n",
      "1                                                0.0    \n",
      "2                                                0.0    \n",
      "3                                                0.0    \n",
      "4                                                0.0    \n",
      "\n",
      "   SmokerStatus_Former smoker  SmokerStatus_Never smoked  AlcoholDrinkers_Yes  \\\n",
      "0                         0.0                        1.0                  0.0   \n",
      "1                         0.0                        1.0                  0.0   \n",
      "2                         0.0                        1.0                  1.0   \n",
      "3                         0.0                        1.0                  0.0   \n",
      "4                         1.0                        0.0                  1.0   \n",
      "\n",
      "   HadStroke_Yes  \n",
      "0            0.0  \n",
      "1            0.0  \n",
      "2            0.0  \n",
      "3            1.0  \n",
      "4            0.0  \n",
      "\n",
      "[5 rows x 21 columns]\n"
     ]
    }
   ],
   "source": [
    "from sklearn.preprocessing import MinMaxScaler\n",
    "scaler = MinMaxScaler()\n",
    "scaled_values = scaler.fit_transform(df_encoded)\n",
    "df_scaled = pd.DataFrame(scaled_values, columns=df_encoded.columns)\n",
    "print(df_scaled.head())"
   ]
  },
  {
   "cell_type": "markdown",
   "id": "8b3432cb",
   "metadata": {},
   "source": [
    "Throw data at Model"
   ]
  },
  {
   "cell_type": "markdown",
   "id": "12549a6d",
   "metadata": {},
   "source": [
    "Star with Linear Regression"
   ]
  },
  {
   "cell_type": "code",
   "execution_count": 52,
   "id": "02dc332f",
   "metadata": {},
   "outputs": [
    {
     "name": "stdout",
     "output_type": "stream",
     "text": [
      "Linear Regression Mean Squared Error: 0.0523181972018557\n"
     ]
    }
   ],
   "source": [
    "from sklearn.model_selection import train_test_split\n",
    "from sklearn.linear_model import LinearRegression, LogisticRegression\n",
    "from sklearn.metrics import mean_squared_error, accuracy_score, classification_report\n",
    "\n",
    "X = df_scaled[['BMI', 'SleepHours', 'Sex_Male', 'AgeCategory_Age 25 to 29', 'AgeCategory_Age 30 to 34', \\\n",
    "    'AgeCategory_Age 35 to 39',  'AgeCategory_Age 40 to 44', 'AgeCategory_Age 45 to 49', 'AgeCategory_Age 50 to 54', \\\n",
    "    'AlcoholDrinkers_Yes', 'HadStroke_Yes']]\n",
    "y = df_scaled['HadHeartAttack_Yes']\n",
    "\n",
    "X_train, X_test, y_train, y_test = train_test_split(X, y, test_size=0.2, random_state=0)\n",
    "\n",
    "X_train = scaler.fit_transform(X_train)\n",
    "X_test = scaler.transform(X_test)\n",
    "\n",
    "# Initialize and train the linear regression model\n",
    "linear_reg = LinearRegression()\n",
    "linear_reg.fit(X_train, y_train)\n",
    "\n",
    "# Make predictions\n",
    "y_pred = linear_reg.predict(X_test)\n",
    "\n",
    "# Evaluate the model\n",
    "mse = mean_squared_error(y_test, y_pred)\n",
    "print(f\"Linear Regression Mean Squared Error: {mse}\")"
   ]
  },
  {
   "cell_type": "markdown",
   "id": "baffc54d",
   "metadata": {},
   "source": [
    "Evaluation & Insights"
   ]
  },
  {
   "cell_type": "code",
   "execution_count": 58,
   "id": "b4d8c6ea",
   "metadata": {},
   "outputs": [
    {
     "ename": "ValueError",
     "evalue": "Classification metrics can't handle a mix of binary and continuous targets",
     "output_type": "error",
     "traceback": [
      "\u001b[31m---------------------------------------------------------------------------\u001b[39m",
      "\u001b[31mValueError\u001b[39m                                Traceback (most recent call last)",
      "\u001b[36mCell\u001b[39m\u001b[36m \u001b[39m\u001b[32mIn[58]\u001b[39m\u001b[32m, line 15\u001b[39m\n\u001b[32m      5\u001b[39m \u001b[38;5;28;01mimport\u001b[39;00m\u001b[38;5;250m \u001b[39m\u001b[34;01mseaborn\u001b[39;00m\u001b[38;5;250m \u001b[39m\u001b[38;5;28;01mas\u001b[39;00m\u001b[38;5;250m \u001b[39m\u001b[34;01msns\u001b[39;00m\n\u001b[32m      7\u001b[39m \u001b[38;5;66;03m#cm = confusion_matrix(y_test, y_pred)\u001b[39;00m\n\u001b[32m      8\u001b[39m \u001b[38;5;66;03m#sns.heatmap(cm, annot=True, fmt=\"d\", cmap=\"Blues\")\u001b[39;00m\n\u001b[32m      9\u001b[39m \u001b[38;5;66;03m#plt.xlabel(\"Predicted\")\u001b[39;00m\n\u001b[32m   (...)\u001b[39m\u001b[32m     13\u001b[39m \n\u001b[32m     14\u001b[39m \u001b[38;5;66;03m# Evaluate the model with confusion matrix\u001b[39;00m\n\u001b[32m---> \u001b[39m\u001b[32m15\u001b[39m conf_matrix = \u001b[43mconfusion_matrix\u001b[49m\u001b[43m(\u001b[49m\u001b[43my_test\u001b[49m\u001b[43m,\u001b[49m\u001b[43m \u001b[49m\u001b[43my_pred\u001b[49m\u001b[43m)\u001b[49m\n\u001b[32m     17\u001b[39m \u001b[38;5;66;03m# Plot confusion matrix\u001b[39;00m\n\u001b[32m     18\u001b[39m plt.figure(figsize=(\u001b[32m6\u001b[39m, \u001b[32m4\u001b[39m))\n",
      "\u001b[36mFile \u001b[39m\u001b[32mc:\\Users\\hygor\\Desktop\\sdev450\\Heart\\.venv\\Lib\\site-packages\\sklearn\\utils\\_param_validation.py:216\u001b[39m, in \u001b[36mvalidate_params.<locals>.decorator.<locals>.wrapper\u001b[39m\u001b[34m(*args, **kwargs)\u001b[39m\n\u001b[32m    210\u001b[39m \u001b[38;5;28;01mtry\u001b[39;00m:\n\u001b[32m    211\u001b[39m     \u001b[38;5;28;01mwith\u001b[39;00m config_context(\n\u001b[32m    212\u001b[39m         skip_parameter_validation=(\n\u001b[32m    213\u001b[39m             prefer_skip_nested_validation \u001b[38;5;129;01mor\u001b[39;00m global_skip_validation\n\u001b[32m    214\u001b[39m         )\n\u001b[32m    215\u001b[39m     ):\n\u001b[32m--> \u001b[39m\u001b[32m216\u001b[39m         \u001b[38;5;28;01mreturn\u001b[39;00m \u001b[43mfunc\u001b[49m\u001b[43m(\u001b[49m\u001b[43m*\u001b[49m\u001b[43margs\u001b[49m\u001b[43m,\u001b[49m\u001b[43m \u001b[49m\u001b[43m*\u001b[49m\u001b[43m*\u001b[49m\u001b[43mkwargs\u001b[49m\u001b[43m)\u001b[49m\n\u001b[32m    217\u001b[39m \u001b[38;5;28;01mexcept\u001b[39;00m InvalidParameterError \u001b[38;5;28;01mas\u001b[39;00m e:\n\u001b[32m    218\u001b[39m     \u001b[38;5;66;03m# When the function is just a wrapper around an estimator, we allow\u001b[39;00m\n\u001b[32m    219\u001b[39m     \u001b[38;5;66;03m# the function to delegate validation to the estimator, but we replace\u001b[39;00m\n\u001b[32m    220\u001b[39m     \u001b[38;5;66;03m# the name of the estimator by the name of the function in the error\u001b[39;00m\n\u001b[32m    221\u001b[39m     \u001b[38;5;66;03m# message to avoid confusion.\u001b[39;00m\n\u001b[32m    222\u001b[39m     msg = re.sub(\n\u001b[32m    223\u001b[39m         \u001b[33mr\u001b[39m\u001b[33m\"\u001b[39m\u001b[33mparameter of \u001b[39m\u001b[33m\\\u001b[39m\u001b[33mw+ must be\u001b[39m\u001b[33m\"\u001b[39m,\n\u001b[32m    224\u001b[39m         \u001b[33mf\u001b[39m\u001b[33m\"\u001b[39m\u001b[33mparameter of \u001b[39m\u001b[38;5;132;01m{\u001b[39;00mfunc.\u001b[34m__qualname__\u001b[39m\u001b[38;5;132;01m}\u001b[39;00m\u001b[33m must be\u001b[39m\u001b[33m\"\u001b[39m,\n\u001b[32m    225\u001b[39m         \u001b[38;5;28mstr\u001b[39m(e),\n\u001b[32m    226\u001b[39m     )\n",
      "\u001b[36mFile \u001b[39m\u001b[32mc:\\Users\\hygor\\Desktop\\sdev450\\Heart\\.venv\\Lib\\site-packages\\sklearn\\metrics\\_classification.py:340\u001b[39m, in \u001b[36mconfusion_matrix\u001b[39m\u001b[34m(y_true, y_pred, labels, sample_weight, normalize)\u001b[39m\n\u001b[32m    257\u001b[39m \u001b[38;5;250m\u001b[39m\u001b[33;03m\"\"\"Compute confusion matrix to evaluate the accuracy of a classification.\u001b[39;00m\n\u001b[32m    258\u001b[39m \n\u001b[32m    259\u001b[39m \u001b[33;03mBy definition a confusion matrix :math:`C` is such that :math:`C_{i, j}`\u001b[39;00m\n\u001b[32m   (...)\u001b[39m\u001b[32m    337\u001b[39m \u001b[33;03m(np.int64(0), np.int64(2), np.int64(1), np.int64(1))\u001b[39;00m\n\u001b[32m    338\u001b[39m \u001b[33;03m\"\"\"\u001b[39;00m\n\u001b[32m    339\u001b[39m y_true, y_pred = attach_unique(y_true, y_pred)\n\u001b[32m--> \u001b[39m\u001b[32m340\u001b[39m y_type, y_true, y_pred = \u001b[43m_check_targets\u001b[49m\u001b[43m(\u001b[49m\u001b[43my_true\u001b[49m\u001b[43m,\u001b[49m\u001b[43m \u001b[49m\u001b[43my_pred\u001b[49m\u001b[43m)\u001b[49m\n\u001b[32m    341\u001b[39m \u001b[38;5;28;01mif\u001b[39;00m y_type \u001b[38;5;129;01mnot\u001b[39;00m \u001b[38;5;129;01min\u001b[39;00m (\u001b[33m\"\u001b[39m\u001b[33mbinary\u001b[39m\u001b[33m\"\u001b[39m, \u001b[33m\"\u001b[39m\u001b[33mmulticlass\u001b[39m\u001b[33m\"\u001b[39m):\n\u001b[32m    342\u001b[39m     \u001b[38;5;28;01mraise\u001b[39;00m \u001b[38;5;167;01mValueError\u001b[39;00m(\u001b[33m\"\u001b[39m\u001b[38;5;132;01m%s\u001b[39;00m\u001b[33m is not supported\u001b[39m\u001b[33m\"\u001b[39m % y_type)\n",
      "\u001b[36mFile \u001b[39m\u001b[32mc:\\Users\\hygor\\Desktop\\sdev450\\Heart\\.venv\\Lib\\site-packages\\sklearn\\metrics\\_classification.py:107\u001b[39m, in \u001b[36m_check_targets\u001b[39m\u001b[34m(y_true, y_pred)\u001b[39m\n\u001b[32m    104\u001b[39m     y_type = {\u001b[33m\"\u001b[39m\u001b[33mmulticlass\u001b[39m\u001b[33m\"\u001b[39m}\n\u001b[32m    106\u001b[39m \u001b[38;5;28;01mif\u001b[39;00m \u001b[38;5;28mlen\u001b[39m(y_type) > \u001b[32m1\u001b[39m:\n\u001b[32m--> \u001b[39m\u001b[32m107\u001b[39m     \u001b[38;5;28;01mraise\u001b[39;00m \u001b[38;5;167;01mValueError\u001b[39;00m(\n\u001b[32m    108\u001b[39m         \u001b[33m\"\u001b[39m\u001b[33mClassification metrics can\u001b[39m\u001b[33m'\u001b[39m\u001b[33mt handle a mix of \u001b[39m\u001b[38;5;132;01m{0}\u001b[39;00m\u001b[33m and \u001b[39m\u001b[38;5;132;01m{1}\u001b[39;00m\u001b[33m targets\u001b[39m\u001b[33m\"\u001b[39m.format(\n\u001b[32m    109\u001b[39m             type_true, type_pred\n\u001b[32m    110\u001b[39m         )\n\u001b[32m    111\u001b[39m     )\n\u001b[32m    113\u001b[39m \u001b[38;5;66;03m# We can't have more than one value on y_type => The set is no more needed\u001b[39;00m\n\u001b[32m    114\u001b[39m y_type = y_type.pop()\n",
      "\u001b[31mValueError\u001b[39m: Classification metrics can't handle a mix of binary and continuous targets"
     ]
    }
   ],
   "source": [
    "import seaborn as sns\n",
    "import matplotlib.pyplot as plt\n",
    "from sklearn.metrics import confusion_matrix\n",
    "import matplotlib.pyplot as plt\n",
    "import seaborn as sns\n",
    "\n",
    "#cm = confusion_matrix(y_test, y_pred)\n",
    "#sns.heatmap(cm, annot=True, fmt=\"d\", cmap=\"Blues\")\n",
    "#plt.xlabel(\"Predicted\")\n",
    "#plt.ylabel(\"Actual\")\n",
    "#plt.title(\"Confusion Matrix\")\n",
    "#plt.show()\n",
    "\n",
    "# Evaluate the model with confusion matrix\n",
    "conf_matrix = confusion_matrix(y_test, y_pred)\n",
    "\n",
    "# Plot confusion matrix\n",
    "plt.figure(figsize=(6, 4))\n",
    "sns.heatmap(conf_matrix, annot=True, fmt=\"d\", cmap=\"Blues\", xticklabels=[\"High\", \"Not High\"], yticklabels=[\"High\", \"Not High\"])\n",
    "plt.xlabel(\"Predicted Labels\")\n",
    "plt.ylabel(\"True Labels\")\n",
    "plt.title(\"Logistic Regression Confusion Matrix (High vs. Not High)\")\n",
    "plt.show()"
   ]
  }
 ],
 "metadata": {
  "kernelspec": {
   "display_name": ".venv",
   "language": "python",
   "name": "python3"
  },
  "language_info": {
   "codemirror_mode": {
    "name": "ipython",
    "version": 3
   },
   "file_extension": ".py",
   "mimetype": "text/x-python",
   "name": "python",
   "nbconvert_exporter": "python",
   "pygments_lexer": "ipython3",
   "version": "3.13.1"
  }
 },
 "nbformat": 4,
 "nbformat_minor": 5
}
