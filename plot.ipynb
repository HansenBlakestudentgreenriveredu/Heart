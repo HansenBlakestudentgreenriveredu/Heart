{
 "cells": [
  {
   "cell_type": "code",
   "execution_count": 1,
   "id": "a2f5e62f",
   "metadata": {},
   "outputs": [],
   "source": [
    "import pandas as pd\n",
    "import matplotlib.pyplot as plt\n",
    "import seaborn as sns  # Optional but helpful\n",
    "\n",
    "heart_data_2022_nan = pd.read_csv(\"./Archive/2022/heart_2022_with_nans.csv\")"
   ]
  },
  {
   "cell_type": "markdown",
   "id": "01483775",
   "metadata": {},
   "source": [
    "The necessary imports and files to begin data analysis."
   ]
  },
  {
   "cell_type": "code",
   "execution_count": 3,
   "id": "f868e67b",
   "metadata": {},
   "outputs": [
    {
     "name": "stdout",
     "output_type": "stream",
     "text": [
      "(445132, 40)\n"
     ]
    }
   ],
   "source": [
    "print(heart_data_2022_nan.shape)"
   ]
  },
  {
   "cell_type": "markdown",
   "id": "45d2d148",
   "metadata": {},
   "source": [
    "First we get the shape of the data:\n",
    ">![shape.png](./images/shape.png)"
   ]
  },
  {
   "cell_type": "code",
   "execution_count": 4,
   "id": "5b1c54d6",
   "metadata": {},
   "outputs": [
    {
     "name": "stdout",
     "output_type": "stream",
     "text": [
      "     State     Sex GeneralHealth  PhysicalHealthDays  MentalHealthDays  \\\n",
      "0  Alabama  Female     Very good                 0.0               0.0   \n",
      "1  Alabama  Female     Excellent                 0.0               0.0   \n",
      "2  Alabama  Female     Very good                 2.0               3.0   \n",
      "3  Alabama  Female     Excellent                 0.0               0.0   \n",
      "4  Alabama  Female          Fair                 2.0               0.0   \n",
      "\n",
      "                                     LastCheckupTime PhysicalActivities  \\\n",
      "0  Within past year (anytime less than 12 months ...                 No   \n",
      "1                                                NaN                 No   \n",
      "2  Within past year (anytime less than 12 months ...                Yes   \n",
      "3  Within past year (anytime less than 12 months ...                Yes   \n",
      "4  Within past year (anytime less than 12 months ...                Yes   \n",
      "\n",
      "   SleepHours RemovedTeeth HadHeartAttack  ... HeightInMeters  \\\n",
      "0         8.0          NaN             No  ...            NaN   \n",
      "1         6.0          NaN             No  ...           1.60   \n",
      "2         5.0          NaN             No  ...           1.57   \n",
      "3         7.0          NaN             No  ...           1.65   \n",
      "4         9.0          NaN             No  ...           1.57   \n",
      "\n",
      "  WeightInKilograms    BMI AlcoholDrinkers HIVTesting FluVaxLast12  \\\n",
      "0               NaN    NaN              No         No          Yes   \n",
      "1             68.04  26.57              No         No           No   \n",
      "2             63.50  25.61              No         No           No   \n",
      "3             63.50  23.30              No         No          Yes   \n",
      "4             53.98  21.77             Yes         No           No   \n",
      "\n",
      "  PneumoVaxEver                                  TetanusLast10Tdap  \\\n",
      "0            No  Yes, received tetanus shot but not sure what type   \n",
      "1            No  No, did not receive any tetanus shot in the pa...   \n",
      "2            No                                                NaN   \n",
      "3           Yes  No, did not receive any tetanus shot in the pa...   \n",
      "4           Yes  No, did not receive any tetanus shot in the pa...   \n",
      "\n",
      "  HighRiskLastYear CovidPos  \n",
      "0               No       No  \n",
      "1               No       No  \n",
      "2               No      Yes  \n",
      "3               No       No  \n",
      "4               No       No  \n",
      "\n",
      "[5 rows x 40 columns]\n"
     ]
    }
   ],
   "source": [
    "print(heart_data_2022_nan.head())"
   ]
  },
  {
   "cell_type": "markdown",
   "id": "be3f549f",
   "metadata": {},
   "source": [
    "After we've gotten an idea of the shape (and size) of our data we can move on to looking at a sampling of it to know what columns we're working with."
   ]
  },
  {
   "cell_type": "code",
   "execution_count": 6,
   "id": "31a23701",
   "metadata": {},
   "outputs": [
    {
     "name": "stdout",
     "output_type": "stream",
     "text": [
      "State                            0\n",
      "Sex                              0\n",
      "GeneralHealth                 1198\n",
      "PhysicalHealthDays           10927\n",
      "MentalHealthDays              9067\n",
      "LastCheckupTime               8308\n",
      "PhysicalActivities            1093\n",
      "SleepHours                    5453\n",
      "RemovedTeeth                 11360\n",
      "HadHeartAttack                3065\n",
      "HadAngina                     4405\n",
      "HadStroke                     1557\n",
      "HadAsthma                     1773\n",
      "HadSkinCancer                 3143\n",
      "HadCOPD                       2219\n",
      "HadDepressiveDisorder         2812\n",
      "HadKidneyDisease              1926\n",
      "HadArthritis                  2633\n",
      "HadDiabetes                   1087\n",
      "DeafOrHardOfHearing          20647\n",
      "BlindOrVisionDifficulty      21564\n",
      "DifficultyConcentrating      24240\n",
      "DifficultyWalking            24012\n",
      "DifficultyDressingBathing    23915\n",
      "DifficultyErrands            25656\n",
      "SmokerStatus                 35462\n",
      "ECigaretteUsage              35660\n",
      "ChestScan                    56046\n",
      "RaceEthnicityCategory        14057\n",
      "AgeCategory                   9079\n",
      "HeightInMeters               28652\n",
      "WeightInKilograms            42078\n",
      "BMI                          48806\n",
      "AlcoholDrinkers              46574\n",
      "HIVTesting                   66127\n",
      "FluVaxLast12                 47121\n",
      "PneumoVaxEver                77040\n",
      "TetanusLast10Tdap            82516\n",
      "HighRiskLastYear             50623\n",
      "CovidPos                     50764\n",
      "dtype: int64\n"
     ]
    }
   ],
   "source": [
    "print(heart_data_2022_nan.isna().sum())"
   ]
  },
  {
   "cell_type": "markdown",
   "id": "bcc0def6",
   "metadata": {},
   "source": [
    "Next is a check of our null values in each column. It's worth noting there are quite a large number even for the data (up to ~20%) in some columns."
   ]
  },
  {
   "cell_type": "code",
   "execution_count": 17,
   "id": "f1c8bc4a",
   "metadata": {},
   "outputs": [
    {
     "data": {
      "image/png": "[encoded data removed]",
      "text/plain": [
       "<Figure size 640x480 with 1 Axes>"
      ]
     },
     "metadata": {},
     "output_type": "display_data"
    }
   ],
   "source": [
    "heart_data_2022_nan['Sex'].value_counts().plot.pie(\n",
    "    autopct='%1.1f%%',\n",
    "    startangle=70,\n",
    "    colors=['lightblue', 'salmon'],\n",
    "    ylabel=''\n",
    ")\n",
    "plt.title('Sex Distribution')\n",
    "plt.show()"
   ]
  },
  {
   "cell_type": "markdown",
   "id": "45a3d9bb",
   "metadata": {},
   "source": [
    "We can begin to start exploring the data. This is the distribution of female to male individuals in the data."
   ]
  }
 ],
 "metadata": {
  "kernelspec": {
   "display_name": ".venv",
   "language": "python",
   "name": "python3"
  },
  "language_info": {
   "codemirror_mode": {
    "name": "ipython",
    "version": 3
   },
   "file_extension": ".py",
   "mimetype": "text/x-python",
   "name": "python",
   "nbconvert_exporter": "python",
   "pygments_lexer": "ipython3",
   "version": "3.13.1"
  }
 },
 "nbformat": 4,
 "nbformat_minor": 5
}
